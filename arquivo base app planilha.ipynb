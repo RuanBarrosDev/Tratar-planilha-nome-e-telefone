{
 "cells": [
  {
   "cell_type": "code",
   "execution_count": 10,
   "id": "24153b32-99ba-4c38-bfb7-46f005b84344",
   "metadata": {},
   "outputs": [
    {
     "name": "stdin",
     "output_type": "stream",
     "text": [
      "Digite o caminho completo da planilha a ser tratada (incluindo o nome do arquivo):  s\n"
     ]
    },
    {
     "name": "stdout",
     "output_type": "stream",
     "text": [
      "O caminho especificado não é um arquivo válido.\n"
     ]
    },
    {
     "name": "stdin",
     "output_type": "stream",
     "text": [
      "Deseja processar outra planilha? (sim/não):  nao\n",
      "Pressione Enter para encerrar o programa... \n"
     ]
    },
    {
     "data": {
      "text/plain": [
       "''"
      ]
     },
     "execution_count": 10,
     "metadata": {},
     "output_type": "execute_result"
    }
   ],
   "source": [
    "import pandas as pd\n",
    "import re\n",
    "import os\n",
    "\n",
    "def clean_name(name):\n",
    "    # Lista de nomes compostos comuns para verificação\n",
    "    compound_first_names = [\"MARIA JOSÉ\", \"LUIZA HELENA\", \"MARIA DE LOURDES\", \"MARIA DAS DORES\", \"MARIA ELMA\"]\n",
    "    # Checa se o nome é nulo ou vazio\n",
    "    if pd.isna(name) or name.strip() == '':\n",
    "        return None\n",
    "    # Remove caracteres especiais e espaços desnecessários\n",
    "    clean_name = re.sub(r'[^\\w\\s]', '', name).strip()\n",
    "    # Divide o nome em palavras e converte para maiúsculas\n",
    "    words = clean_name.upper().split()\n",
    "    # Verifica se as duas primeiras palavras formam um nome composto conhecido\n",
    "    if len(words) >= 2 and \" \".join(words[:2]) in compound_first_names:\n",
    "        return \" \".join(words[:2]).title()\n",
    "    # Retorna o primeiro nome ou None se não houver palavras\n",
    "    return words[0].title() if words else None\n",
    "\n",
    "def clean_phone(phone):\n",
    "    # Verifica se o telefone é nulo\n",
    "    if pd.isna(phone):\n",
    "        return None\n",
    "    # Remove aspas simples e caracteres não-dígitos, exceto o '+' inicial\n",
    "    phone = re.sub(r\"(?<!^)[^\\d]\", \"\", phone.strip(\"'\"))\n",
    "    # Adiciona o código do país se começar com '+'\n",
    "    if phone.startswith('+'):\n",
    "        phone = '55' + phone[3:]\n",
    "    # Formata o telefone para o padrão brasileiro\n",
    "    if len(phone) == 13 and phone.startswith('55') and phone[4] == '9':\n",
    "        return phone[:4] + phone[5:]\n",
    "    # Verifica se o telefone tem o comprimento correto e começa com '55'\n",
    "    return phone if len(phone) == 12 and phone.startswith('55') else None\n",
    "\n",
    "def process_file(input_path):\n",
    "    # Verifica se o caminho do arquivo é válido\n",
    "    if not os.path.isfile(input_path):\n",
    "        print(\"O caminho especificado não é um arquivo válido.\")\n",
    "        return\n",
    "\n",
    "    # Carrega a planilha do Excel\n",
    "    df = pd.read_excel(input_path)\n",
    "\n",
    "    # Solicita ao usuário os nomes das colunas de nome e telefone\n",
    "    name_column = input(\"Digite o nome da coluna que contém os Nomes: \")\n",
    "    phone_column = input(\"Digite o nome da coluna que contém os Telefones: \")\n",
    "\n",
    "    # Verifica se as colunas necessárias estão presentes\n",
    "    missing_columns = [col for col in [name_column, phone_column] if col not in df.columns]\n",
    "    if missing_columns:\n",
    "        print(f\"As colunas faltantes são: {', '.join(missing_columns)}\")\n",
    "        return\n",
    "\n",
    "    # Processa o DataFrame limpando nomes e telefones\n",
    "    df['Nome Limpo'] = df[name_column].apply(clean_name)\n",
    "    df['Telefone Limpo'] = df[phone_column].apply(clean_phone)\n",
    "\n",
    "    # Seleciona e renomeia as colunas para visualização\n",
    "    df_final = df[['Telefone Limpo', 'Nome Limpo']].dropna()\n",
    "    df_final.columns = ['Número', 'Primeiro Nome']\n",
    "\n",
    "    # Exibe um preview dos dados processados\n",
    "    print(\"Preview das primeiras 5 linhas:\")\n",
    "    print(df_final.head())\n",
    "    print(\"\\nPreview das últimas 5 linhas:\")\n",
    "    print(df_final.tail())\n",
    "\n",
    "    # Solicita confirmação para salvar a planilha processada\n",
    "    confirm = input(\"Deseja salvar a planilha? (sim/não): \")\n",
    "    if confirm.lower() == 'sim':\n",
    "        filename = input(\"Digite o nome do arquivo para salvar: \")\n",
    "        if not filename.endswith('.xlsx'):\n",
    "            filename += '.xlsx'\n",
    "        save_path = input(\"Digite o diretório onde deseja salvar o arquivo: \")\n",
    "        if not os.path.isdir(save_path):\n",
    "            print(\"O diretório especificado não existe.\")\n",
    "        else:\n",
    "            output_path = os.path.join(save_path, filename)\n",
    "            df_final.to_excel(output_path, index=False)\n",
    "            print(f\"Planilha salva com sucesso em: {output_path}\")\n",
    "    else:\n",
    "        print(\"Operação cancelada.\")\n",
    "\n",
    "def main():\n",
    "    # Loop principal para processar múltiplas planilhas\n",
    "    while True:\n",
    "        input_path = input(\"Digite o caminho completo da planilha a ser tratada (incluindo o nome do arquivo): \")\n",
    "        process_file(input_path)\n",
    "        another = input(\"Deseja processar outra planilha? (sim/não): \")\n",
    "        if another.lower() != 'sim':\n",
    "            break\n",
    "\n",
    "if __name__ == \"__main__\":\n",
    "    main()\n",
    "\n",
    "input(\"Pressione Enter para encerrar o programa...\")\n"
   ]
  },
  {
   "cell_type": "code",
   "execution_count": null,
   "id": "ea498e37-e6e3-4e5f-ad7d-9e43e5a5edfe",
   "metadata": {},
   "outputs": [],
   "source": []
  }
 ],
 "metadata": {
  "kernelspec": {
   "display_name": "Python 3 (ipykernel)",
   "language": "python",
   "name": "python3"
  },
  "language_info": {
   "codemirror_mode": {
    "name": "ipython",
    "version": 3
   },
   "file_extension": ".py",
   "mimetype": "text/x-python",
   "name": "python",
   "nbconvert_exporter": "python",
   "pygments_lexer": "ipython3",
   "version": "3.11.7"
  }
 },
 "nbformat": 4,
 "nbformat_minor": 5
}
